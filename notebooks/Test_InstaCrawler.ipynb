{
 "cells": [
  {
   "cell_type": "markdown",
   "metadata": {},
   "source": [
    "# Test notebook: Instagram Crawler\n",
    "\n",
    "We experiment with python to crawl an Instagram's profile, download a post and display the post's caption."
   ]
  },
  {
   "cell_type": "markdown",
   "metadata": {},
   "source": [
    "## Import required modules"
   ]
  },
  {
   "cell_type": "code",
   "execution_count": 1,
   "metadata": {},
   "outputs": [],
   "source": [
    "import json\n",
    "import requests\n",
    "from bs4 import BeautifulSoup\n",
    "from lxml.html.soupparser import fromstring"
   ]
  },
  {
   "cell_type": "markdown",
   "metadata": {},
   "source": [
    "## Receive the Profile's Website"
   ]
  },
  {
   "cell_type": "code",
   "execution_count": 2,
   "metadata": {},
   "outputs": [],
   "source": [
    "insta_profile_url = 'https://www.instagram.com/koloot.design/'"
   ]
  },
  {
   "cell_type": "code",
   "execution_count": 3,
   "metadata": {},
   "outputs": [],
   "source": [
    "# we download the profile's website\n",
    "insta_profile = requests.get(insta_profile_url, allow_redirects=True)\n",
    "\n",
    "# error check\n",
    "if insta_profile.status_code != 200:\n",
    "    print(\"Could not download the Instagram profile\")\n",
    "    print(\"Response code: %d\" %insta_profile.status_code)"
   ]
  },
  {
   "cell_type": "code",
   "execution_count": 4,
   "metadata": {},
   "outputs": [],
   "source": [
    "# Let's parse the website\n",
    "soup = BeautifulSoup(insta_profile.text, 'lxml') \n",
    "\n",
    "json_data_str = ''\n",
    "# iterate through all scripts and find the\n",
    "# first occurence of the script containing the data\n",
    "for script in soup.find_all('script'):\n",
    "    script_str = script.string\n",
    "    if script_str.startswith('window._sharedData = '):\n",
    "        json_data_str = script_str\n",
    "        break\n",
    "\n",
    "# clean data\n",
    "json_data_str = json_data_str.strip('window._sharedData = ')\n",
    "json_data_str = json_data_str.strip(';')\n"
   ]
  },
  {
   "cell_type": "code",
   "execution_count": 5,
   "metadata": {},
   "outputs": [],
   "source": [
    "# decode string and receive json object\n",
    "json_data = json.loads(json_data_str.replace(\"\\n\",\"\\\\n\"))"
   ]
  },
  {
   "cell_type": "code",
   "execution_count": 6,
   "metadata": {},
   "outputs": [],
   "source": [
    "#\n",
    "# Source: https://gist.github.com/douglasmiranda/5127251#gistcomment-2398949\n",
    "#\n",
    "def find_json(key, dictionary):\n",
    "    \"\"\"Returns the value for a key in in a (nested) iterable.\n",
    "       \n",
    "       Arguments:\n",
    "           - key: a dictionary's entry\n",
    "           - dictionary: <list> or <dictionary>\n",
    "           - returned: <string> \"value\"\n",
    "           \n",
    "       Returns:\n",
    "           - <iterator>\n",
    "    \"\"\"    \n",
    "    for k, v in dictionary.items():\n",
    "        if k == key:\n",
    "            yield v\n",
    "        elif isinstance(v, dict):\n",
    "            for result in find_json(key, v):\n",
    "                yield result\n",
    "        elif isinstance(v, list):\n",
    "            for d in v:\n",
    "                if isinstance(d, dict):\n",
    "                    for result in find_json(key, d):\n",
    "                        yield result"
   ]
  },
  {
   "cell_type": "code",
   "execution_count": 7,
   "metadata": {},
   "outputs": [],
   "source": [
    "insta_posts = list(find_json('shortcode', json_data))"
   ]
  },
  {
   "cell_type": "code",
   "execution_count": null,
   "metadata": {},
   "outputs": [],
   "source": []
  },
  {
   "cell_type": "markdown",
   "metadata": {},
   "source": [
    "## Download a Single Instagram Post"
   ]
  },
  {
   "cell_type": "code",
   "execution_count": 8,
   "metadata": {},
   "outputs": [
    {
     "name": "stdout",
     "output_type": "stream",
     "text": [
      "Will download the post: https://www.instagram.com/p/BhRpkfqgnsf/\n"
     ]
    }
   ],
   "source": [
    "insta_post = insta_posts[0]\n",
    "insta_post_url = 'https://www.instagram.com/p/' + insta_post + '/'\n",
    "print(\"Will download the post: %s\" %insta_post_url)"
   ]
  },
  {
   "cell_type": "code",
   "execution_count": 9,
   "metadata": {},
   "outputs": [],
   "source": [
    "insta_post = requests.get(insta_post_url, allow_redirects=True)\n",
    "soup = BeautifulSoup(insta_post.text, 'lxml') "
   ]
  },
  {
   "cell_type": "code",
   "execution_count": 10,
   "metadata": {},
   "outputs": [
    {
     "data": {
      "text/plain": [
       "'\\n                {\"@context\":\"http:\\\\/\\\\/schema.org\",\"@type\":\"ImageObject\",\"caption\":\".\\\\nAnafor typeface poster\\\\nBy erman Yilmaz\\\\n@_looperman_\\\\n\\\\nerman yilmaz (1985,turkey) is a graphic designer and graffiti artist based in i\\\\u0307stanbul, whose work focuses mainly on the arts, social and cultural sector.\\\\n\\\\nwww.ermanyilmaz.com\\\\n#looperman #ermanyilmaz #graphicdesign #graphic #design #designer #artist #type #artistic #Typography #vscoart #tbt #graphicdesigner #graphicart #creative #vsco #vscocam #typographer #poster #posterdesign #artwork #posters #creativity #dailyart #designeveryday #designinspiration #postereveryday #graphics #art #kolootdesign\",\"representativeOfPage\":\"http:\\\\/\\\\/schema.org\\\\/True\",\"uploadDate\":\"2018-04-07T16:22:35\",\"author\":{\"@type\":\"Person\",\"alternateName\":\"@koloot.design\",\"mainEntityofPage\":{\"@type\":\"ProfilePage\",\"@id\":\"https:\\\\/\\\\/www.instagram.com\\\\/koloot.design\\\\/\"}},\"comment\":[{\"@type\":\"Comment\",\"text\":\"\\\\u0641\\\\u0648\\\\u0642 \\\\u0627\\\\u0644\\\\u0639\\\\u0627\\\\u062f\\\\u0647 ...\",\"author\":{\"@type\":\"Person\",\"alternateName\":\"@olka_company\",\"mainEntityofPage\":{\"@type\":\"ProfilePage\",\"@id\":\"https:\\\\/\\\\/www.instagram.com\\\\/olka_company\\\\/\"}}},{\"@type\":\"Comment\",\"text\":\"Bowing and saying hi! Great pics!.\",\"author\":{\"@type\":\"Person\",\"alternateName\":\"@kr8bureauvienna\",\"mainEntityofPage\":{\"@type\":\"ProfilePage\",\"@id\":\"https:\\\\/\\\\/www.instagram.com\\\\/kr8bureauvienna\\\\/\"}}}],\"commentCount\":\"19\",\"interactionStatistic\":{\"@type\":\"InteractionCounter\",\"interactionType\":{\"@type\":\"LikeAction\"},\"userInteractionCount\":\"441\"},\"mainEntityofPage\":{\"@type\":\"ItemPage\",\"@id\":\"https:\\\\/\\\\/www.instagram.com\\\\/p\\\\/BhRpkfqgnsf\\\\/\"},\"description\":\"441 Likes, 19 Comments - | KOLOOT DESIGN | (@koloot.design) on Instagram: \\\\u201c. Anafor typeface poster By erman Yilmaz @_looperman_  erman yilmaz (1985,turkey) is a graphic\\\\u2026\\\\u201d\",\"name\":\"| KOLOOT DESIGN | on Instagram: \\\\u201c. Anafor typeface poster By erman Yilmaz @_looperman_  erman yilmaz (1985,turkey) is a graphic designer and graffiti artist based in\\\\u2026\\\\u201d\"}\\n            '"
      ]
     },
     "execution_count": 10,
     "metadata": {},
     "output_type": "execute_result"
    }
   ],
   "source": [
    "# find json data\n",
    "soup.find(attrs={\"type\": \"application/ld+json\"}).string"
   ]
  },
  {
   "cell_type": "markdown",
   "metadata": {},
   "source": [
    "## Instagram Post Data\n",
    "\n",
    "The website with the Instagram post contains json data describing the post. \n",
    "The `application/ld+json` typed data can be simply parsed using python's json library"
   ]
  },
  {
   "cell_type": "code",
   "execution_count": 11,
   "metadata": {},
   "outputs": [],
   "source": [
    "# parse the data from the website \n",
    "post_data_str = soup.find(attrs={\"type\": \"application/ld+json\"}).string\n",
    "# remove any leading and trailing whitespaces such as \\n, \\r, \\t, \\f, space.\n",
    "post_data_str = post_data_str.strip()\n",
    "# prep string for json parsing\n",
    "post_json = json.loads(post_data_str.replace(\"\\n\",\"\\\\n\"))"
   ]
  },
  {
   "cell_type": "code",
   "execution_count": 12,
   "metadata": {},
   "outputs": [
    {
     "name": "stdout",
     "output_type": "stream",
     "text": [
      ".\n",
      "Anafor typeface poster\n",
      "By erman Yilmaz\n",
      "@_looperman_\n",
      "\n",
      "erman yilmaz (1985,turkey) is a graphic designer and graffiti artist based in i̇stanbul, whose work focuses mainly on the arts, social and cultural sector.\n",
      "\n",
      "www.ermanyilmaz.com\n",
      "#looperman #ermanyilmaz #graphicdesign #graphic #design #designer #artist #type #artistic #Typography #vscoart #tbt #graphicdesigner #graphicart #creative #vsco #vscocam #typographer #poster #posterdesign #artwork #posters #creativity #dailyart #designeveryday #designinspiration #postereveryday #graphics #art #kolootdesign\n"
     ]
    }
   ],
   "source": [
    "# access json data content\n",
    "print(post_json[\"caption\"])"
   ]
  },
  {
   "cell_type": "code",
   "execution_count": 13,
   "metadata": {},
   "outputs": [
    {
     "data": {
      "text/plain": [
       "'2018-04-07T16:22:35'"
      ]
     },
     "execution_count": 13,
     "metadata": {},
     "output_type": "execute_result"
    }
   ],
   "source": [
    "post_json['uploadDate']"
   ]
  },
  {
   "cell_type": "code",
   "execution_count": 14,
   "metadata": {},
   "outputs": [
    {
     "data": {
      "text/plain": [
       "'image'"
      ]
     },
     "execution_count": 14,
     "metadata": {},
     "output_type": "execute_result"
    }
   ],
   "source": [
    "#\n",
    "#    <meta name=\"medium\" content=\"image\" />\n",
    "#    <meta property=\"og:type\" content=\"instapp:photo\" />\n",
    "#\n",
    "post_content_type = soup.find('meta', attrs={\"name\": \"medium\"})['content']\n",
    "post_content_type"
   ]
  },
  {
   "cell_type": "code",
   "execution_count": 15,
   "metadata": {},
   "outputs": [
    {
     "data": {
      "text/plain": [
       "'https://scontent-frx5-1.cdninstagram.com/vp/8075278f878692f0135dfc3e300a52db/5DEF77CC/t51.2885-15/e35/29717856_423969544730130_3367786897353998336_n.jpg?_nc_ht=scontent-frx5-1.cdninstagram.com'"
      ]
     },
     "execution_count": 15,
     "metadata": {},
     "output_type": "execute_result"
    }
   ],
   "source": [
    "post_image_url = soup.find('meta', attrs={\"property\": \"og:image\"})['content']\n",
    "post_image_url"
   ]
  },
  {
   "cell_type": "code",
   "execution_count": null,
   "metadata": {},
   "outputs": [],
   "source": []
  },
  {
   "cell_type": "code",
   "execution_count": null,
   "metadata": {},
   "outputs": [],
   "source": []
  },
  {
   "cell_type": "code",
   "execution_count": null,
   "metadata": {},
   "outputs": [],
   "source": []
  },
  {
   "cell_type": "code",
   "execution_count": null,
   "metadata": {},
   "outputs": [],
   "source": []
  }
 ],
 "metadata": {
  "kernelspec": {
   "display_name": "Python 3",
   "language": "python",
   "name": "python3"
  },
  "language_info": {
   "codemirror_mode": {
    "name": "ipython",
    "version": 3
   },
   "file_extension": ".py",
   "mimetype": "text/x-python",
   "name": "python",
   "nbconvert_exporter": "python",
   "pygments_lexer": "ipython3",
   "version": "3.7.3"
  }
 },
 "nbformat": 4,
 "nbformat_minor": 4
}
